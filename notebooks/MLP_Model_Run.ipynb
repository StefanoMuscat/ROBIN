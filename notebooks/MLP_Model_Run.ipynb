{
 "cells": [
  {
   "cell_type": "markdown",
   "id": "e97e228a",
   "metadata": {},
   "source": [
    "# This Python script can be used to generate predictions for new molecules for the chance of RNA vs Protein binding. "
   ]
  },
  {
   "cell_type": "markdown",
   "id": "3a2bbc49",
   "metadata": {},
   "source": [
    "## Software License:\n",
    "\n",
    "MIT License\n",
    "\n",
    "Copyright (c) 2022 Yazdani et al. \n",
    "\n",
    "Permission is hereby granted, free of charge, to any person obtaining a copy\n",
    "of this software and associated documentation files (the \"Software\"), to deal\n",
    "in the Software without restriction, including without limitation the rights\n",
    "to use, copy, modify, merge, publish, distribute, sublicense, and/or sell\n",
    "copies of the Software, and to permit persons to whom the Software is\n",
    "furnished to do so, subject to the following conditions:\n",
    "\n",
    "The above copyright notice and this permission notice shall be included in all\n",
    "copies or substantial portions of the Software.\n",
    "\n",
    "THE SOFTWARE IS PROVIDED \"AS IS\", WITHOUT WARRANTY OF ANY KIND, EXPRESS OR\n",
    "IMPLIED, INCLUDING BUT NOT LIMITED TO THE WARRANTIES OF MERCHANTABILITY,\n",
    "FITNESS FOR A PARTICULAR PURPOSE AND NONINFRINGEMENT. IN NO EVENT SHALL THE\n",
    "AUTHORS OR COPYRIGHT HOLDERS BE LIABLE FOR ANY CLAIM, DAMAGES OR OTHER\n",
    "LIABILITY, WHETHER IN AN ACTION OF CONTRACT, TORT OR OTHERWISE, ARISING FROM,\n",
    "OUT OF OR IN CONNECTION WITH THE SOFTWARE OR THE USE OR OTHER DEALINGS IN THE\n",
    "SOFTWARE."
   ]
  },
  {
   "cell_type": "markdown",
   "id": "662df1f2",
   "metadata": {},
   "source": [
    "## Jupyter notebook within the Anaconda platform was used in writing the following script. Python version 3.8.2 was used as the coding language. \n",
    "$\\;\\;\\;\\;\\;\\;$\n",
    "\n",
    "\n",
    "\n",
    "![Python logo](https://upload.wikimedia.org/wikipedia/commons/thumb/c/c3/Python-logo-notext.svg/300px-Python-logo-notext.svg.png)\n",
    "\n",
    "$\\;\\;\\;\\;\\;\\;$"
   ]
  },
  {
   "cell_type": "code",
   "execution_count": 359,
   "id": "974c8363",
   "metadata": {},
   "outputs": [
    {
     "name": "stdout",
     "output_type": "stream",
     "text": [
      "Python version:\n",
      "3.8.2\n"
     ]
    }
   ],
   "source": [
    "# Check Python version\n",
    "from platform import python_version\n",
    "print(\"Python version:\")\n",
    "print(python_version())"
   ]
  },
  {
   "cell_type": "markdown",
   "id": "c7ef5695",
   "metadata": {},
   "source": [
    "## macOS Catalina version 10.15.7 was used when running this code on the Anaconda platform. "
   ]
  },
  {
   "cell_type": "markdown",
   "id": "79a13e54",
   "metadata": {},
   "source": [
    "## This code was written with the following package versions. Please install the following packages with the mentioned versions for consistency of results."
   ]
  },
  {
   "cell_type": "markdown",
   "id": "fa52c47a",
   "metadata": {},
   "source": [
    "### pandas --> version 1.4.2"
   ]
  },
  {
   "cell_type": "code",
   "execution_count": 360,
   "id": "3882a598",
   "metadata": {},
   "outputs": [
    {
     "name": "stdout",
     "output_type": "stream",
     "text": [
      "pandas version:\n",
      "1.4.2\n"
     ]
    }
   ],
   "source": [
    "# Check pandas version\n",
    "import pandas as pd\n",
    "print(\"pandas version:\")\n",
    "print(pd.__version__)"
   ]
  },
  {
   "cell_type": "markdown",
   "id": "d13d0048",
   "metadata": {},
   "source": [
    "### numpy --> version 1.20.3"
   ]
  },
  {
   "cell_type": "code",
   "execution_count": 361,
   "id": "8dd83535",
   "metadata": {},
   "outputs": [
    {
     "name": "stdout",
     "output_type": "stream",
     "text": [
      "numpy version:\n",
      "1.20.3\n"
     ]
    }
   ],
   "source": [
    "# Check numpy version\n",
    "import numpy as np\n",
    "print(\"numpy version:\")\n",
    "print(np.__version__)"
   ]
  },
  {
   "cell_type": "markdown",
   "id": "88c398a0",
   "metadata": {},
   "source": [
    "### sklearn --> version 1.0.2"
   ]
  },
  {
   "cell_type": "code",
   "execution_count": 370,
   "id": "e532cb79",
   "metadata": {},
   "outputs": [
    {
     "name": "stdout",
     "output_type": "stream",
     "text": [
      "sklearn version:\n",
      "1.0.2\n"
     ]
    }
   ],
   "source": [
    "# Check sklearn version\n",
    "import sklearn\n",
    "print(\"sklearn version:\")\n",
    "print(sklearn.__version__)"
   ]
  },
  {
   "cell_type": "markdown",
   "id": "64e3468d",
   "metadata": {},
   "source": [
    "### tensorflow --> version 2.3.1"
   ]
  },
  {
   "cell_type": "code",
   "execution_count": 362,
   "id": "3f337193",
   "metadata": {},
   "outputs": [
    {
     "name": "stdout",
     "output_type": "stream",
     "text": [
      "tensorflow version:\n",
      "2.3.1\n"
     ]
    }
   ],
   "source": [
    "# Check tensorflow version\n",
    "import tensorflow as tf\n",
    "print(\"tensorflow version:\")\n",
    "print(tf.__version__)"
   ]
  },
  {
   "cell_type": "markdown",
   "id": "4cc31ec3",
   "metadata": {},
   "source": [
    "### keras --> version 2.4.0\n"
   ]
  },
  {
   "cell_type": "code",
   "execution_count": 363,
   "id": "9677d3e7",
   "metadata": {},
   "outputs": [
    {
     "name": "stdout",
     "output_type": "stream",
     "text": [
      "keras version:\n",
      "2.4.0\n"
     ]
    }
   ],
   "source": [
    "# Check keras version\n",
    "print(\"keras version:\")\n",
    "print(tf.keras.__version__)"
   ]
  },
  {
   "cell_type": "code",
   "execution_count": 364,
   "id": "79611db5",
   "metadata": {},
   "outputs": [],
   "source": [
    "# Remove warnings\n",
    "import os\n",
    "import tensorflow as tf\n",
    "os.environ['TF_CPP_MIN_LOG_LEVEL'] = '3'"
   ]
  },
  {
   "cell_type": "code",
   "execution_count": 365,
   "id": "9141f90c",
   "metadata": {},
   "outputs": [
    {
     "name": "stdout",
     "output_type": "stream",
     "text": [
      "Processes complete!\n"
     ]
    }
   ],
   "source": [
    "# Import the required packages for data processing and running the MLP model\n",
    "import pandas as pd\n",
    "import numpy as np\n",
    "import tensorflow as tf\n",
    "import keras\n",
    "import pickle\n",
    "# Remove warnings\n",
    "import logging\n",
    "tf.get_logger().setLevel(logging.ERROR)\n",
    "\n",
    "# Gets current directory of the jupyter notebook to use for directories of different files\n",
    "folder_dir = os.getcwd()[:-10]\n",
    "\n",
    "# Load medians of features from the training set to fill in missing values of the new compound set\n",
    "df_medians = pd.read_csv(folder_dir + \"/ML_CSVs/df_all_3_feature_medians.csv\")\n",
    "\n",
    "# Get features assined to medians as a dictionary\n",
    "median_values_dict = dict(zip(df_medians.feature, df_medians.median_value))\n",
    "\n",
    "# Get the features of the training set for use later\n",
    "features = df_medians[\"feature\"].tolist()\n",
    "\n",
    "# Load in the saved Keras model\n",
    "reconstructed_model = keras.models.load_model(folder_dir + \"/MLP_saved_model\")\n",
    "\n",
    "print(\"Processes complete!\")"
   ]
  },
  {
   "cell_type": "code",
   "execution_count": 366,
   "id": "469f010e",
   "metadata": {},
   "outputs": [
    {
     "data": {
      "text/html": [
       "<div>\n",
       "<style scoped>\n",
       "    .dataframe tbody tr th:only-of-type {\n",
       "        vertical-align: middle;\n",
       "    }\n",
       "\n",
       "    .dataframe tbody tr th {\n",
       "        vertical-align: top;\n",
       "    }\n",
       "\n",
       "    .dataframe thead th {\n",
       "        text-align: right;\n",
       "    }\n",
       "</style>\n",
       "<table border=\"1\" class=\"dataframe\">\n",
       "  <thead>\n",
       "    <tr style=\"text-align: right;\">\n",
       "      <th></th>\n",
       "      <th>ABC</th>\n",
       "      <th>ABCGG</th>\n",
       "      <th>nAcid</th>\n",
       "      <th>nBase</th>\n",
       "      <th>SpAbs_A</th>\n",
       "      <th>SpMax_A</th>\n",
       "      <th>SpDiam_A</th>\n",
       "      <th>SpAD_A</th>\n",
       "      <th>SpMAD_A</th>\n",
       "      <th>LogEE_A</th>\n",
       "      <th>...</th>\n",
       "      <th>SRW10</th>\n",
       "      <th>TSRW10</th>\n",
       "      <th>MW</th>\n",
       "      <th>AMW</th>\n",
       "      <th>WPath</th>\n",
       "      <th>WPol</th>\n",
       "      <th>Zagreb1</th>\n",
       "      <th>Zagreb2</th>\n",
       "      <th>mZagreb1</th>\n",
       "      <th>mZagreb2</th>\n",
       "    </tr>\n",
       "  </thead>\n",
       "  <tbody>\n",
       "    <tr>\n",
       "      <th>0</th>\n",
       "      <td>32.697969</td>\n",
       "      <td>21.600512</td>\n",
       "      <td>0</td>\n",
       "      <td>0</td>\n",
       "      <td>53.266320</td>\n",
       "      <td>2.535517</td>\n",
       "      <td>4.951115</td>\n",
       "      <td>53.266320</td>\n",
       "      <td>1.331658</td>\n",
       "      <td>4.658581</td>\n",
       "      <td>...</td>\n",
       "      <td>10.871099</td>\n",
       "      <td>94.294166</td>\n",
       "      <td>540.102961</td>\n",
       "      <td>9.644696</td>\n",
       "      <td>6054</td>\n",
       "      <td>75</td>\n",
       "      <td>232.0</td>\n",
       "      <td>286.0</td>\n",
       "      <td>12.000000</td>\n",
       "      <td>8.333333</td>\n",
       "    </tr>\n",
       "    <tr>\n",
       "      <th>1</th>\n",
       "      <td>18.966332</td>\n",
       "      <td>15.550824</td>\n",
       "      <td>0</td>\n",
       "      <td>0</td>\n",
       "      <td>29.660194</td>\n",
       "      <td>2.474341</td>\n",
       "      <td>4.823314</td>\n",
       "      <td>29.660194</td>\n",
       "      <td>1.235841</td>\n",
       "      <td>4.115350</td>\n",
       "      <td>...</td>\n",
       "      <td>10.181233</td>\n",
       "      <td>73.176731</td>\n",
       "      <td>351.065318</td>\n",
       "      <td>9.751814</td>\n",
       "      <td>1391</td>\n",
       "      <td>38</td>\n",
       "      <td>130.0</td>\n",
       "      <td>153.0</td>\n",
       "      <td>9.201389</td>\n",
       "      <td>5.027778</td>\n",
       "    </tr>\n",
       "    <tr>\n",
       "      <th>2</th>\n",
       "      <td>21.241713</td>\n",
       "      <td>16.020566</td>\n",
       "      <td>0</td>\n",
       "      <td>1</td>\n",
       "      <td>35.725953</td>\n",
       "      <td>2.403320</td>\n",
       "      <td>4.792133</td>\n",
       "      <td>35.725953</td>\n",
       "      <td>1.323183</td>\n",
       "      <td>4.233444</td>\n",
       "      <td>...</td>\n",
       "      <td>10.113384</td>\n",
       "      <td>75.174897</td>\n",
       "      <td>382.157580</td>\n",
       "      <td>7.799134</td>\n",
       "      <td>2021</td>\n",
       "      <td>39</td>\n",
       "      <td>142.0</td>\n",
       "      <td>165.0</td>\n",
       "      <td>7.138889</td>\n",
       "      <td>5.972222</td>\n",
       "    </tr>\n",
       "    <tr>\n",
       "      <th>3</th>\n",
       "      <td>25.416672</td>\n",
       "      <td>21.303532</td>\n",
       "      <td>0</td>\n",
       "      <td>1</td>\n",
       "      <td>38.989563</td>\n",
       "      <td>2.676186</td>\n",
       "      <td>5.352371</td>\n",
       "      <td>38.989563</td>\n",
       "      <td>1.218424</td>\n",
       "      <td>4.419651</td>\n",
       "      <td>...</td>\n",
       "      <td>11.001783</td>\n",
       "      <td>69.521365</td>\n",
       "      <td>445.160542</td>\n",
       "      <td>7.809834</td>\n",
       "      <td>2350</td>\n",
       "      <td>76</td>\n",
       "      <td>186.0</td>\n",
       "      <td>239.0</td>\n",
       "      <td>14.680556</td>\n",
       "      <td>6.666667</td>\n",
       "    </tr>\n",
       "    <tr>\n",
       "      <th>4</th>\n",
       "      <td>29.198227</td>\n",
       "      <td>19.516970</td>\n",
       "      <td>0</td>\n",
       "      <td>2</td>\n",
       "      <td>49.161634</td>\n",
       "      <td>2.372244</td>\n",
       "      <td>4.744487</td>\n",
       "      <td>49.161634</td>\n",
       "      <td>1.328693</td>\n",
       "      <td>4.541483</td>\n",
       "      <td>...</td>\n",
       "      <td>10.415502</td>\n",
       "      <td>73.587263</td>\n",
       "      <td>494.266285</td>\n",
       "      <td>7.163279</td>\n",
       "      <td>5324</td>\n",
       "      <td>56</td>\n",
       "      <td>194.0</td>\n",
       "      <td>224.0</td>\n",
       "      <td>9.972222</td>\n",
       "      <td>8.083333</td>\n",
       "    </tr>\n",
       "    <tr>\n",
       "      <th>5</th>\n",
       "      <td>26.805756</td>\n",
       "      <td>19.185768</td>\n",
       "      <td>0</td>\n",
       "      <td>0</td>\n",
       "      <td>45.149909</td>\n",
       "      <td>2.538045</td>\n",
       "      <td>4.923438</td>\n",
       "      <td>45.149909</td>\n",
       "      <td>1.327938</td>\n",
       "      <td>4.467470</td>\n",
       "      <td>...</td>\n",
       "      <td>10.481701</td>\n",
       "      <td>84.821561</td>\n",
       "      <td>440.196074</td>\n",
       "      <td>7.722738</td>\n",
       "      <td>3665</td>\n",
       "      <td>56</td>\n",
       "      <td>182.0</td>\n",
       "      <td>217.0</td>\n",
       "      <td>9.222222</td>\n",
       "      <td>7.527778</td>\n",
       "    </tr>\n",
       "    <tr>\n",
       "      <th>6</th>\n",
       "      <td>22.374448</td>\n",
       "      <td>18.015057</td>\n",
       "      <td>0</td>\n",
       "      <td>0</td>\n",
       "      <td>36.166453</td>\n",
       "      <td>2.476482</td>\n",
       "      <td>4.952965</td>\n",
       "      <td>36.166453</td>\n",
       "      <td>1.247119</td>\n",
       "      <td>4.284712</td>\n",
       "      <td>...</td>\n",
       "      <td>10.291230</td>\n",
       "      <td>64.526738</td>\n",
       "      <td>404.256274</td>\n",
       "      <td>6.219327</td>\n",
       "      <td>2246</td>\n",
       "      <td>47</td>\n",
       "      <td>150.0</td>\n",
       "      <td>175.0</td>\n",
       "      <td>10.972222</td>\n",
       "      <td>6.388889</td>\n",
       "    </tr>\n",
       "    <tr>\n",
       "      <th>7</th>\n",
       "      <td>16.199155</td>\n",
       "      <td>13.295586</td>\n",
       "      <td>1</td>\n",
       "      <td>0</td>\n",
       "      <td>26.927238</td>\n",
       "      <td>2.535864</td>\n",
       "      <td>4.933973</td>\n",
       "      <td>26.927238</td>\n",
       "      <td>1.346362</td>\n",
       "      <td>3.994834</td>\n",
       "      <td>...</td>\n",
       "      <td>10.161882</td>\n",
       "      <td>73.059238</td>\n",
       "      <td>265.109485</td>\n",
       "      <td>8.033621</td>\n",
       "      <td>676</td>\n",
       "      <td>39</td>\n",
       "      <td>114.0</td>\n",
       "      <td>141.0</td>\n",
       "      <td>5.388889</td>\n",
       "      <td>4.277778</td>\n",
       "    </tr>\n",
       "  </tbody>\n",
       "</table>\n",
       "<p>8 rows × 1665 columns</p>\n",
       "</div>"
      ],
      "text/plain": [
       "         ABC      ABCGG  nAcid  nBase    SpAbs_A   SpMax_A  SpDiam_A  \\\n",
       "0  32.697969  21.600512      0      0  53.266320  2.535517  4.951115   \n",
       "1  18.966332  15.550824      0      0  29.660194  2.474341  4.823314   \n",
       "2  21.241713  16.020566      0      1  35.725953  2.403320  4.792133   \n",
       "3  25.416672  21.303532      0      1  38.989563  2.676186  5.352371   \n",
       "4  29.198227  19.516970      0      2  49.161634  2.372244  4.744487   \n",
       "5  26.805756  19.185768      0      0  45.149909  2.538045  4.923438   \n",
       "6  22.374448  18.015057      0      0  36.166453  2.476482  4.952965   \n",
       "7  16.199155  13.295586      1      0  26.927238  2.535864  4.933973   \n",
       "\n",
       "      SpAD_A   SpMAD_A   LogEE_A  ...      SRW10     TSRW10          MW  \\\n",
       "0  53.266320  1.331658  4.658581  ...  10.871099  94.294166  540.102961   \n",
       "1  29.660194  1.235841  4.115350  ...  10.181233  73.176731  351.065318   \n",
       "2  35.725953  1.323183  4.233444  ...  10.113384  75.174897  382.157580   \n",
       "3  38.989563  1.218424  4.419651  ...  11.001783  69.521365  445.160542   \n",
       "4  49.161634  1.328693  4.541483  ...  10.415502  73.587263  494.266285   \n",
       "5  45.149909  1.327938  4.467470  ...  10.481701  84.821561  440.196074   \n",
       "6  36.166453  1.247119  4.284712  ...  10.291230  64.526738  404.256274   \n",
       "7  26.927238  1.346362  3.994834  ...  10.161882  73.059238  265.109485   \n",
       "\n",
       "        AMW  WPath  WPol  Zagreb1  Zagreb2   mZagreb1  mZagreb2  \n",
       "0  9.644696   6054    75    232.0    286.0  12.000000  8.333333  \n",
       "1  9.751814   1391    38    130.0    153.0   9.201389  5.027778  \n",
       "2  7.799134   2021    39    142.0    165.0   7.138889  5.972222  \n",
       "3  7.809834   2350    76    186.0    239.0  14.680556  6.666667  \n",
       "4  7.163279   5324    56    194.0    224.0   9.972222  8.083333  \n",
       "5  7.722738   3665    56    182.0    217.0   9.222222  7.527778  \n",
       "6  6.219327   2246    47    150.0    175.0  10.972222  6.388889  \n",
       "7  8.033621    676    39    114.0    141.0   5.388889  4.277778  \n",
       "\n",
       "[8 rows x 1665 columns]"
      ]
     },
     "execution_count": 366,
     "metadata": {},
     "output_type": "execute_result"
    }
   ],
   "source": [
    "# Preparation of the new compounds array to be run in the MLP model\n",
    "\n",
    "# Read in Mordred features of the new compound set\n",
    "# As an example, the input here is the 8 compounds shown as test cases in the paper. \n",
    "df_Mordred_extra = pd.read_csv(folder_dir + \"/data/Mordred_files/Mordred_Test_Compounds_3D.csv\")\n",
    "\n",
    "# Take the compound names as a list as they will be used later\n",
    "Mordred_extra_names = df_Mordred_extra[\"name\"].tolist()\n",
    "\n",
    "# Remove the name column\n",
    "df_Mordred_extra_no_name = df_Mordred_extra.iloc[:, 1:]\n",
    "\n",
    "# Only keep features of the new compounds that also exist in df_all_3\n",
    "for item in df_Mordred_extra_no_name:\n",
    "    if item not in features:\n",
    "        df_Mordred_extra_no_name = df_Mordred_extra_no_name.drop(item, axis=1)\n",
    "\n",
    "# Replace infinity in the feature values by nan values\n",
    "df_Mordred_extra_no_name.replace([np.inf, -np.inf], np.nan, inplace=True)     \n",
    "\n",
    "# Fill nan values of the test matrix with median of df_all_3 columns\n",
    "for i in range(df_Mordred_extra_no_name.shape[0]):\n",
    "    for item in features:\n",
    "        if np.isnan(df_Mordred_extra_no_name.at[i, item]) == True:\n",
    "            df_Mordred_extra_no_name.at[i, item] = median_values_dict[item]\n",
    "            \n",
    "df_Mordred_extra_no_name"
   ]
  },
  {
   "cell_type": "code",
   "execution_count": 367,
   "id": "8f0ee837",
   "metadata": {},
   "outputs": [
    {
     "name": "stdout",
     "output_type": "stream",
     "text": [
      "ADQ\n",
      "100.0\n",
      "\n",
      "HIV TAR compound 4\n",
      "100.0\n",
      "\n",
      "Ribocil-A\n",
      "88.5\n",
      "\n",
      "Tetracycline\n",
      "97.1\n",
      "\n",
      "Imatinib\n",
      "0.1\n",
      "\n",
      "Ibrutinib\n",
      "7.4\n",
      "\n",
      "Lovastatin\n",
      "0.0\n",
      "\n",
      "Nevirapine\n",
      "0.1\n",
      "\n"
     ]
    }
   ],
   "source": [
    "# Run the model on the new compound dataset\n",
    "\n",
    "# Load in the standardscalar package\n",
    "from sklearn.preprocessing import StandardScaler\n",
    "\n",
    "# Load in the standardization used in standardizing the training set\n",
    "sc = pickle.load(open(folder_dir + \"/ML_CSVs/scaler.pkl\", 'rb'))\n",
    "\n",
    "# Standardize the new compound dataset using the standardization parameters derived from the training set\n",
    "X_extra_test = df_Mordred_extra_no_name.values\n",
    "X_extra_test = sc.transform(X_extra_test)\n",
    "\n",
    "# Use the MLP model to predict the chance of RNA binding over protein binding\n",
    "prediction = [item[0] for item in reconstructed_model.predict(X_extra_test).tolist()]\n",
    "\n",
    "# Print compound name followed by the probability predicted by model\n",
    "for i in range(len(prediction)):\n",
    "    print(Mordred_extra_names[i])\n",
    "    print(round(prediction[i]*100, 1))\n",
    "    print()"
   ]
  },
  {
   "cell_type": "code",
   "execution_count": null,
   "id": "0dba13d6",
   "metadata": {},
   "outputs": [],
   "source": []
  }
 ],
 "metadata": {
  "kernelspec": {
   "display_name": "Python 3 (ipykernel)",
   "language": "python",
   "name": "python3"
  },
  "language_info": {
   "codemirror_mode": {
    "name": "ipython",
    "version": 3
   },
   "file_extension": ".py",
   "mimetype": "text/x-python",
   "name": "python",
   "nbconvert_exporter": "python",
   "pygments_lexer": "ipython3",
   "version": "3.8.2"
  }
 },
 "nbformat": 4,
 "nbformat_minor": 5
}
